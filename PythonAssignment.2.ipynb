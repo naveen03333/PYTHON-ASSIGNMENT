{
 "cells": [
  {
   "cell_type": "markdown",
   "id": "bdaefed0",
   "metadata": {},
   "source": [
    "1) two values of boolean are True and False.boolean is written as bool(),it returns True if datatypes contain any value,if it is null or empty it returns False. the value of true is 1 and value of False is 0.\n",
    "2) three types of boolean operators are AND, OR, NOT.\n",
    "3) AND--> it returns true if both are true.  t+t=t,t+f=f,f+t=f,f+f=f\n",
    "   OR--> it returns true if any one is true. t+f=t,f+f=f,t+t=t,f+t=t\n",
    "   NOT-->not of t=f,not of f=t.\n",
    "4) a)f b)f c)t d)f e)f f)t\n",
    "5) >,>=,<,<=,==,!=\n",
    "6) (=)-->it is used for assignment (a=5)\n",
    "   (==)-->it is used for comparing(2==3)\n",
    "7) print('ham')\n",
    "   print('spam')\n",
    "   print('spam') --->these 3 print at once\n"
   ]
  },
  {
   "cell_type": "code",
   "execution_count": 3,
   "id": "80f21f9d",
   "metadata": {},
   "outputs": [
    {
     "name": "stdout",
     "output_type": "stream",
     "text": [
      "02\n",
      "Greetings\n"
     ]
    }
   ],
   "source": [
    "#8)\n",
    "spam = input(int())\n",
    "if spam == 1 :\n",
    "    print(\"Hello\")\n",
    "if spam == 2 :\n",
    "    print(\"Howdy\")\n",
    "else :\n",
    "    print(\"Greetings\")"
   ]
  },
  {
   "cell_type": "markdown",
   "id": "102ac5de",
   "metadata": {},
   "source": [
    "9) to stop kernal, use ctrl+c  or click stop button on top.\n",
    "10) break-->exit currnt loop and go to next.\n",
    "    continue-->exit current iteration and go to next iteration.\n",
    "11) all out put same,1st and 2nd are default to 3rd."
   ]
  },
  {
   "cell_type": "code",
   "execution_count": 6,
   "id": "7a4d3d86",
   "metadata": {},
   "outputs": [
    {
     "name": "stdout",
     "output_type": "stream",
     "text": [
      "1\n",
      "2\n",
      "3\n",
      "4\n",
      "5\n",
      "6\n",
      "7\n",
      "8\n",
      "9\n",
      "10\n",
      "1\n",
      "2\n",
      "3\n",
      "4\n",
      "5\n",
      "6\n",
      "7\n",
      "8\n",
      "9\n",
      "10\n"
     ]
    }
   ],
   "source": [
    "#12\n",
    "for i in range(1,11) :\n",
    "    print (i)\n",
    "i = 1\n",
    "while i < 11 :\n",
    "    print (i)\n",
    "    i+=1"
   ]
  },
  {
   "cell_type": "markdown",
   "id": "64ef2f1c",
   "metadata": {},
   "source": [
    "13) spam.bacon()"
   ]
  }
 ],
 "metadata": {
  "kernelspec": {
   "display_name": "Python 3 (ipykernel)",
   "language": "python",
   "name": "python3"
  },
  "language_info": {
   "codemirror_mode": {
    "name": "ipython",
    "version": 3
   },
   "file_extension": ".py",
   "mimetype": "text/x-python",
   "name": "python",
   "nbconvert_exporter": "python",
   "pygments_lexer": "ipython3",
   "version": "3.9.13"
  }
 },
 "nbformat": 4,
 "nbformat_minor": 5
}
