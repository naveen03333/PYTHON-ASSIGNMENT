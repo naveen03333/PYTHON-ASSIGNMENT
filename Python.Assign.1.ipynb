{
 "cells": [
  {
   "cell_type": "markdown",
   "id": "bb2eccae",
   "metadata": {},
   "source": [
    "1) values: 'hello', -87.8, 6\n",
    "   expression: * # + - /\n"
   ]
  },
  {
   "cell_type": "markdown",
   "id": "18418e2e",
   "metadata": {},
   "source": [
    "2) variable is container which contains values of diffrant data types.\n",
    "   string is a data type which is stored in single or double quotations and by default input function stores string.\n",
    " \n",
    "3) there are differant types of data types, three of them are 1)integer(23) 2)float(23.233) 3)string(\"23\"). integer is a numerical data type  wchich does not contain any values after decimal, and float contain values after the decimal point and finally string is a data type which is given in or taken out in quotation marks. \n",
    "\n",
    "4) expressions are made up of differant type of operators which perform operations. based on our requirement we do differant operations using differant operators like mathematical operations. all expressions perform operations on values and gives result.\n",
    "\n",
    "5) statement is like giving command to do task, but expression means doing operations on variables, values using operators.in this question you are commanding to store spam=10 not performing any operation.\n",
    "   \n",
    "6) initially bacon  has value int 22\n",
    "   after adding also it remains 22 because, added value is not stored in the bacon bucket.\n",
    "   \n",
    "7) after concatinating we get: spamspamspam and after multing also spamspamspam overall:same output\n",
    "8) because variable name should not start with numerical or special charactors\n",
    "9) int,float,str\n",
    "10) we cannot concatinate differant data types, to concatinate it should be in similar data type,inthis example convert or Typecate 99 to str, by using str(99)"
   ]
  }
 ],
 "metadata": {
  "kernelspec": {
   "display_name": "Python 3 (ipykernel)",
   "language": "python",
   "name": "python3"
  },
  "language_info": {
   "codemirror_mode": {
    "name": "ipython",
    "version": 3
   },
   "file_extension": ".py",
   "mimetype": "text/x-python",
   "name": "python",
   "nbconvert_exporter": "python",
   "pygments_lexer": "ipython3",
   "version": "3.9.13"
  }
 },
 "nbformat": 4,
 "nbformat_minor": 5
}
